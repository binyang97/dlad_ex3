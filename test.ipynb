{
 "cells": [
  {
   "cell_type": "code",
   "execution_count": 135,
   "metadata": {},
   "outputs": [],
   "source": [
    "import numpy as np\n",
    "from timeit import default_timer as timer\n"
   ]
  },
  {
   "cell_type": "code",
   "execution_count": 3,
   "metadata": {},
   "outputs": [],
   "source": [
    "a = np.random.rand(3,4)"
   ]
  },
  {
   "cell_type": "code",
   "execution_count": 5,
   "metadata": {},
   "outputs": [
    {
     "data": {
      "text/plain": [
       "array([[0.98939305, 0.73756218, 0.09407944, 0.19303971],\n",
       "       [0.47259369, 0.95283369, 0.52368495, 0.40698243],\n",
       "       [0.84150857, 0.74079227, 0.7060555 , 0.24441571]])"
      ]
     },
     "execution_count": 5,
     "metadata": {},
     "output_type": "execute_result"
    }
   ],
   "source": [
    "a"
   ]
  },
  {
   "cell_type": "code",
   "execution_count": 8,
   "metadata": {},
   "outputs": [
    {
     "data": {
      "text/plain": [
       "(3,)"
      ]
     },
     "execution_count": 8,
     "metadata": {},
     "output_type": "execute_result"
    }
   ],
   "source": [
    "np.amax(a, axis=1).shape"
   ]
  },
  {
   "cell_type": "code",
   "execution_count": 13,
   "metadata": {},
   "outputs": [],
   "source": [
    "ind = np.argmax(a, axis=1)"
   ]
  },
  {
   "cell_type": "code",
   "execution_count": 14,
   "metadata": {},
   "outputs": [
    {
     "data": {
      "text/plain": [
       "array([0, 1, 0])"
      ]
     },
     "execution_count": 14,
     "metadata": {},
     "output_type": "execute_result"
    }
   ],
   "source": [
    "ind"
   ]
  },
  {
   "cell_type": "code",
   "execution_count": 11,
   "metadata": {},
   "outputs": [],
   "source": [
    "tar = np.random.randint(0,10,(4,7))"
   ]
  },
  {
   "cell_type": "code",
   "execution_count": 12,
   "metadata": {},
   "outputs": [
    {
     "data": {
      "text/plain": [
       "array([[3, 3, 0, 5, 7, 5, 6],\n",
       "       [5, 6, 0, 4, 0, 9, 7],\n",
       "       [8, 2, 1, 6, 7, 8, 3],\n",
       "       [7, 1, 0, 8, 3, 5, 6]])"
      ]
     },
     "execution_count": 12,
     "metadata": {},
     "output_type": "execute_result"
    }
   ],
   "source": [
    "tar"
   ]
  },
  {
   "cell_type": "code",
   "execution_count": 17,
   "metadata": {},
   "outputs": [
    {
     "data": {
      "text/plain": [
       "array([[3, 3, 0, 5, 7, 5, 6],\n",
       "       [5, 6, 0, 4, 0, 9, 7],\n",
       "       [3, 3, 0, 5, 7, 5, 6]])"
      ]
     },
     "execution_count": 17,
     "metadata": {},
     "output_type": "execute_result"
    }
   ],
   "source": [
    "tar[ind]"
   ]
  },
  {
   "cell_type": "code",
   "execution_count": 18,
   "metadata": {},
   "outputs": [],
   "source": [
    "c = np.array([True, True, False, True])"
   ]
  },
  {
   "cell_type": "code",
   "execution_count": 24,
   "metadata": {},
   "outputs": [],
   "source": [
    "lb1 = a<0.5\n",
    "lb2 = a<0.2"
   ]
  },
  {
   "cell_type": "code",
   "execution_count": 22,
   "metadata": {},
   "outputs": [
    {
     "data": {
      "text/plain": [
       "array([[False, False,  True,  True],\n",
       "       [ True, False, False,  True],\n",
       "       [False, False, False,  True]])"
      ]
     },
     "execution_count": 22,
     "metadata": {},
     "output_type": "execute_result"
    }
   ],
   "source": [
    "a<0.5"
   ]
  },
  {
   "cell_type": "code",
   "execution_count": 23,
   "metadata": {},
   "outputs": [
    {
     "data": {
      "text/plain": [
       "array([[False, False,  True,  True],\n",
       "       [False, False, False, False],\n",
       "       [False, False, False, False]])"
      ]
     },
     "execution_count": 23,
     "metadata": {},
     "output_type": "execute_result"
    }
   ],
   "source": [
    "a<0.2"
   ]
  },
  {
   "cell_type": "code",
   "execution_count": 25,
   "metadata": {},
   "outputs": [
    {
     "data": {
      "text/plain": [
       "array([[False, False, False, False],\n",
       "       [ True, False, False,  True],\n",
       "       [False, False, False,  True]])"
      ]
     },
     "execution_count": 25,
     "metadata": {},
     "output_type": "execute_result"
    }
   ],
   "source": [
    "lb1 & ~lb2"
   ]
  },
  {
   "cell_type": "code",
   "execution_count": 37,
   "metadata": {},
   "outputs": [],
   "source": [
    "def sample_w_padding(num_elements, num_needed):\n",
    "    if num_elements >= num_needed:\n",
    "        return np.random.choice(num_elements, size=num_needed, replace=False)\n",
    "    else:\n",
    "        choice = np.arange(num_elements)\n",
    "        repeat = np.random.choice(num_elements, size=num_needed-num_elements, replace=True)\n",
    "        return np.concatenate((choice, repeat))\n",
    "    "
   ]
  },
  {
   "cell_type": "code",
   "execution_count": 34,
   "metadata": {},
   "outputs": [],
   "source": [
    "def sample_bg(num_needed, bg_easy_num, bg_hard_num, bg_hard_ratio):\n",
    "    bg_easy_choice = np.array([])\n",
    "    bg_hard_choice = np.array([])\n",
    "\n",
    "    if bg_easy_num==0:\n",
    "        bg_hard_choice = sample_w_padding(bg_hard_num, num_needed)\n",
    "    elif bg_hard_num==0:\n",
    "        bg_easy_choice = sample_w_padding(bg_easy_num, num_needed)\n",
    "    else:\n",
    "        bg_hard_sample_num = np.floor(bg_hard_ratio * num_needed).astype(int)\n",
    "        bg_hard_choice = sample_w_padding(bg_hard_num, bg_hard_sample_num)\n",
    "        bg_easy_choice = sample_w_padding(bg_easy_num, num_needed-bg_hard_sample_num)\n",
    "\n",
    "    return np.sort(bg_easy_choice), np.sort(bg_hard_choice)"
   ]
  },
  {
   "cell_type": "code",
   "execution_count": 92,
   "metadata": {},
   "outputs": [],
   "source": [
    "def sample_fg(num_needed, fg_cr1_num, fg_cr2_num):\n",
    "    choice = sample_w_padding(fg_cr1_num+fg_cr2_num, num_needed)\n",
    "    fg_cr1_choice = choice[choice<fg_cr1_num]\n",
    "    fg_cr2_choice = choice[choice>=fg_cr1_num]-fg_cr1_num\n",
    "    return np.sort(fg_cr1_choice), np.sort(fg_cr2_choice)"
   ]
  },
  {
   "cell_type": "code",
   "execution_count": 38,
   "metadata": {},
   "outputs": [
    {
     "data": {
      "text/plain": [
       "(array([0, 0, 1, 2, 3, 3, 4]), array([0, 0, 1, 2, 3, 4]))"
      ]
     },
     "execution_count": 38,
     "metadata": {},
     "output_type": "execute_result"
    }
   ],
   "source": [
    "sample_bg(13,5,5, 0.5)\n"
   ]
  },
  {
   "cell_type": "code",
   "execution_count": 32,
   "metadata": {},
   "outputs": [
    {
     "name": "stdout",
     "output_type": "stream",
     "text": [
      "[0.44685359 0.28235285 0.55486732 0.00765685 0.83655893 0.57083364\n",
      " 0.72634309 0.88255379 0.2529064  0.65665343]\n"
     ]
    }
   ],
   "source": [
    "iou = np.random.rand(10)\n",
    "print(iou)"
   ]
  },
  {
   "cell_type": "code",
   "execution_count": 39,
   "metadata": {},
   "outputs": [
    {
     "name": "stdout",
     "output_type": "stream",
     "text": [
      "[]\n"
     ]
    }
   ],
   "source": [
    "w = np.where(iou<0)[0]\n",
    "print(w)"
   ]
  },
  {
   "cell_type": "code",
   "execution_count": 53,
   "metadata": {},
   "outputs": [
    {
     "data": {
      "text/plain": [
       "array([], dtype=int64)"
      ]
     },
     "execution_count": 53,
     "metadata": {},
     "output_type": "execute_result"
    }
   ],
   "source": [
    "w"
   ]
  },
  {
   "cell_type": "code",
   "execution_count": 100,
   "metadata": {},
   "outputs": [
    {
     "data": {
      "text/plain": [
       "array([0.76530789, 0.98037902, 0.959433  , 0.63048538, 0.97678681,\n",
       "       0.94282223])"
      ]
     },
     "execution_count": 100,
     "metadata": {},
     "output_type": "execute_result"
    }
   ],
   "source": [
    "iou[w]"
   ]
  },
  {
   "cell_type": "code",
   "execution_count": 8,
   "metadata": {},
   "outputs": [],
   "source": [
    "c=np.arange(10)"
   ]
  },
  {
   "cell_type": "code",
   "execution_count": 9,
   "metadata": {},
   "outputs": [
    {
     "data": {
      "text/plain": [
       "array([1, 3])"
      ]
     },
     "execution_count": 9,
     "metadata": {},
     "output_type": "execute_result"
    }
   ],
   "source": [
    "c[1:4:2]"
   ]
  },
  {
   "cell_type": "code",
   "execution_count": 25,
   "metadata": {},
   "outputs": [],
   "source": [
    "a = np.array([1,2,3,4,5])"
   ]
  },
  {
   "cell_type": "code",
   "execution_count": 23,
   "metadata": {},
   "outputs": [],
   "source": [
    "def change(a):\n",
    "    a=a.copy()\n",
    "    a[0]=0"
   ]
  },
  {
   "cell_type": "code",
   "execution_count": 26,
   "metadata": {},
   "outputs": [
    {
     "name": "stdout",
     "output_type": "stream",
     "text": [
      "[1 2 3 4 5]\n"
     ]
    }
   ],
   "source": [
    "change(a)\n",
    "print(a)"
   ]
  },
  {
   "cell_type": "code",
   "execution_count": 54,
   "metadata": {},
   "outputs": [],
   "source": [
    "d = np.array([],dtype=int)"
   ]
  },
  {
   "cell_type": "code",
   "execution_count": 55,
   "metadata": {},
   "outputs": [
    {
     "data": {
      "text/plain": [
       "array([], dtype=int64)"
      ]
     },
     "execution_count": 55,
     "metadata": {},
     "output_type": "execute_result"
    }
   ],
   "source": [
    "d"
   ]
  },
  {
   "cell_type": "code",
   "execution_count": 56,
   "metadata": {},
   "outputs": [],
   "source": [
    "def expand_bbox(box, delta):\n",
    "    '''\n",
    "    expand bounding box with given distance in all directions\n",
    "    input (8, 3) corners coordinates\n",
    "    '''\n",
    "\n",
    "    direction = np.sign(box)\n",
    "\n",
    "    direction[direction == 0] = 1\n",
    "    \n",
    "    newbox = box + direction * delta\n",
    "\n",
    "    return newbox\n",
    "\n",
    "def label2corners(label, expand = False, delta = 1):\n",
    "    '''\n",
    "    Task 1\n",
    "    input\n",
    "        label (N,7) 3D bounding box with (x,y,z,h,w,l,ry)\n",
    "    output\n",
    "        corners (N,8,3) corner coordinates in the rectified reference frame\n",
    "    '''\n",
    "    corners = []\n",
    "    for bbox in label:\n",
    "        h = bbox[3]\n",
    "        w = bbox[4]\n",
    "        l = bbox[5]\n",
    "        x = bbox[0]\n",
    "        y = bbox[1]\n",
    "        z = bbox[2]\n",
    "        ry = bbox[6]\n",
    "\n",
    "        '''\n",
    "              1 -------- 0\n",
    "             /|         /|\n",
    "            2 -------- 3 .\n",
    "            | |        | |\n",
    "            . 5 -------- 4\n",
    "            |/         |/\n",
    "            6 -------- 7\n",
    "        ''' \n",
    "        corner_3d = np.array([[l/2, -h,  w/2],\n",
    "                    [-l/2, -h,  w/2],\n",
    "                    [-l/2, -h, -w/2],\n",
    "                    [ l/2, -h, -w/2],\n",
    "                    [ l/2,  0,  w/2],\n",
    "                    [-l/2,  0,  w/2],\n",
    "                    [-l/2,  0, -w/2],\n",
    "                    [ l/2,  0, -w/2]])\n",
    "\n",
    "        \n",
    "        #corner_3d = np.array(corner_3d)\n",
    "\n",
    "        if expand:\n",
    "            corner_3d = expand_bbox(corner_3d, delta = delta)\n",
    "        corner_3d = np.hstack([corner_3d, np.ones((8,1))])\n",
    "        corner_3d = corner_3d.T\n",
    "\n",
    "        cos_ry = np.cos(ry)\n",
    "        sin_ry = np.sin(ry)\n",
    "        T = [[ cos_ry, 0, sin_ry, x],\n",
    "            [0,       1, 0,      y],\n",
    "            [-sin_ry, 0, cos_ry, z],\n",
    "            [0,       0, 0,      1]]\n",
    "        T = np.array(T)\n",
    "\n",
    "        corner_3d = np.dot(T, corner_3d)\n",
    "        corner_3d = corner_3d.T\n",
    "        corner_3d = corner_3d[:, :3]\n",
    "        corners.append(corner_3d)\n",
    "    corners = np.array(corners)\n",
    "    assert corners.shape == (len(label), 8, 3)\n",
    "\n",
    "    return corners"
   ]
  },
  {
   "cell_type": "code",
   "execution_count": 114,
   "metadata": {},
   "outputs": [],
   "source": [
    "def enlarge_box(box, extention):\n",
    "    '''\n",
    "    input\n",
    "        box (N,7) 3D bounding box label (x,y,z,h,w,l,ry)\n",
    "        extention (float)  extend the bounding box by extension on all sides in meters\n",
    "    output\n",
    "        extended_box (N,7) extended bounding box label\n",
    "    '''\n",
    "    box[:, 3:6] += 2 * extention\n",
    "    return box\n",
    "\n",
    "def points_in_box(xyz, box):\n",
    "    '''\n",
    "    input\n",
    "        xyz (N,3) point coordinates in rectified reference frame\n",
    "        box (7,) 3d bounding box label (x,y,z,h,w,l,ry)\n",
    "    output\n",
    "        flag (bool) true if point is in bounding box\n",
    "    '''\n",
    "    h = box[3]\n",
    "    w = box[4]\n",
    "    l = box[5]\n",
    "    x = box[0]\n",
    "    y = box[1]\n",
    "    z = box[2]\n",
    "    ry = box[6]\n",
    "\n",
    "    cos_ry = np.cos(ry)\n",
    "    sin_ry = np.sin(ry)\n",
    "    T = [[ cos_ry, 0, sin_ry, x],\n",
    "        [0,       1, 0,      y],\n",
    "        [-sin_ry, 0, cos_ry, z],\n",
    "        [0,       0, 0,      1]]\n",
    "    T = np.array(T)\n",
    "    C = T[:3, :3]\n",
    "    r = T[:3,  3]\n",
    "    T_inv = np.zeros((4,4))\n",
    "    T_inv[:3,:3] = C.T\n",
    "    T_inv[:3, 3] = np.dot(-C.T, r)\n",
    "    T_inv[3,  3] = 1\n",
    "    print(T_inv)\n",
    "\n",
    "    xyz = np.hstack([xyz, np.ones((len(xyz),1))]).T\n",
    "    xyz_prime = np.dot(T_inv, xyz)\n",
    "    xyz_prime = xyz_prime.T\n",
    "    xyz_prime = xyz_prime[:, :3]\n",
    "\n",
    "    flag = (xyz_prime[:,0] >= -l/2) & (xyz_prime[:,0] <= l/2) & \\\n",
    "           (xyz_prime[:,1] <= 0) & (xyz_prime[:,1] >= -h) & \\\n",
    "           (xyz_prime[:,2] >= -w/2) & (xyz_prime[:,2] <= w/2)\n",
    "    return np.where(flag)[0]"
   ]
  },
  {
   "cell_type": "code",
   "execution_count": 70,
   "metadata": {},
   "outputs": [
    {
     "name": "stdout",
     "output_type": "stream",
     "text": [
      "[[[ 2.41421356e+00 -4.00000000e+00  1.00875766e-16]\n",
      "  [-8.86511593e-17 -4.00000000e+00  2.41421356e+00]\n",
      "  [-2.41421356e+00 -4.00000000e+00 -1.00875766e-16]\n",
      "  [ 8.86511593e-17 -4.00000000e+00 -2.41421356e+00]\n",
      "  [ 2.41421356e+00  0.00000000e+00  1.00875766e-16]\n",
      "  [-8.86511593e-17  0.00000000e+00  2.41421356e+00]\n",
      "  [-2.41421356e+00  0.00000000e+00 -1.00875766e-16]\n",
      "  [ 8.86511593e-17  0.00000000e+00 -2.41421356e+00]]]\n"
     ]
    }
   ],
   "source": [
    "label = np.array([[0,0,0,np.sqrt(2),2,np.sqrt(2),np.pi/4]])\n",
    "label = enlarge_box(label, 1)\n",
    "cns = label2corners(label)\n",
    "print(cns)"
   ]
  },
  {
   "cell_type": "code",
   "execution_count": 116,
   "metadata": {},
   "outputs": [
    {
     "name": "stdout",
     "output_type": "stream",
     "text": [
      "[[ 7.07106781e-01  0.00000000e+00 -7.07106781e-01 -2.22044605e-16]\n",
      " [ 0.00000000e+00  1.00000000e+00  0.00000000e+00  1.00000000e+00]\n",
      " [ 7.07106781e-01  0.00000000e+00  7.07106781e-01 -2.82842712e+00]\n",
      " [ 0.00000000e+00  0.00000000e+00  0.00000000e+00  1.00000000e+00]]\n",
      "[1 2]\n"
     ]
    }
   ],
   "source": [
    "xyz = np.array([[2,1,2],\n",
    "                [2,-3,2],\n",
    "                [2.13,-1,2.13]\n",
    "])\n",
    "label = np.array([2,-1,2,2,np.sqrt(2),np.sqrt(2),np.pi/4])\n",
    "\n",
    "t = points_in_box(xyz,label)\n",
    "print(t)"
   ]
  },
  {
   "cell_type": "code",
   "execution_count": 117,
   "metadata": {},
   "outputs": [],
   "source": [
    "def sample_w_padding(indices, num_needed):\n",
    "    num_elements = indices.size\n",
    "    if num_elements >= num_needed:\n",
    "        return np.random.choice(indices, size=num_needed, replace=False)\n",
    "    else:\n",
    "        choice = indices\n",
    "        repeat = np.random.choice(indices, size=num_needed-num_elements, replace=True)\n",
    "        return np.concatenate((choice, repeat))\n"
   ]
  },
  {
   "cell_type": "code",
   "execution_count": 195,
   "metadata": {},
   "outputs": [],
   "source": [
    "xyz = np.hstack([np.arange(5).reshape(-1,1)]*5)"
   ]
  },
  {
   "cell_type": "code",
   "execution_count": 121,
   "metadata": {},
   "outputs": [
    {
     "data": {
      "text/plain": [
       "array([[0, 0, 0, 0, 0],\n",
       "       [1, 1, 1, 1, 1],\n",
       "       [2, 2, 2, 2, 2],\n",
       "       [3, 3, 3, 3, 3],\n",
       "       [4, 4, 4, 4, 4]])"
      ]
     },
     "execution_count": 121,
     "metadata": {},
     "output_type": "execute_result"
    }
   ],
   "source": [
    "xyz"
   ]
  },
  {
   "cell_type": "code",
   "execution_count": 208,
   "metadata": {},
   "outputs": [
    {
     "name": "stdout",
     "output_type": "stream",
     "text": [
      "[array([2, 1, 0, 1, 1, 1]), array([1, 0, 3, 3, 0, 0])]\n"
     ]
    }
   ],
   "source": [
    "ind = [np.array([2, 1, 0, 1, 1, 1]), np.array([1, 0, 3, 3, 0, 0])]\n",
    "print(ind)"
   ]
  },
  {
   "cell_type": "code",
   "execution_count": 209,
   "metadata": {},
   "outputs": [
    {
     "name": "stderr",
     "output_type": "stream",
     "text": [
      "/var/folders/bx/vb0z4sks0sl7cc5f1pyvrzfw0000gp/T/ipykernel_79171/1876297654.py:1: FutureWarning: Using a non-tuple sequence for multidimensional indexing is deprecated; use `arr[tuple(seq)]` instead of `arr[seq]`. In the future this will be interpreted as an array index, `arr[np.array(seq)]`, which will result either in an error or a different result.\n",
      "  xyz[ind]\n"
     ]
    },
    {
     "data": {
      "text/plain": [
       "array([2, 1, 0, 1, 1, 1])"
      ]
     },
     "execution_count": 209,
     "metadata": {},
     "output_type": "execute_result"
    }
   ],
   "source": [
    "xyz[ind]"
   ]
  },
  {
   "cell_type": "code",
   "execution_count": 131,
   "metadata": {},
   "outputs": [
    {
     "data": {
      "text/plain": [
       "array([False, False, False])"
      ]
     },
     "execution_count": 131,
     "metadata": {},
     "output_type": "execute_result"
    }
   ],
   "source": [
    "valid = np.full(3, False)\n",
    "valid"
   ]
  },
  {
   "cell_type": "code",
   "execution_count": 132,
   "metadata": {},
   "outputs": [
    {
     "data": {
      "text/plain": [
       "array([0., 0., 0., 1., 1., 1.])"
      ]
     },
     "execution_count": 132,
     "metadata": {},
     "output_type": "execute_result"
    }
   ],
   "source": [
    "np.concatenate([np.zeros(3), np.ones(3)])"
   ]
  },
  {
   "cell_type": "code",
   "execution_count": 174,
   "metadata": {},
   "outputs": [],
   "source": [
    "xyz = np.random.rand(16400*100,3)"
   ]
  },
  {
   "cell_type": "code",
   "execution_count": 186,
   "metadata": {},
   "outputs": [
    {
     "name": "stdout",
     "output_type": "stream",
     "text": [
      "indexing duration [ms]:  55.7\n"
     ]
    }
   ],
   "source": [
    "start = timer()\n",
    "\n",
    "t = (xyz[:,0] > 0.1) & (xyz[:,0] < 0.9) & (xyz[:,1] > 0.1) & (xyz[:,1] < 0.9) & (xyz[:,2] > 0.1) & (xyz[:,2] < 0.9)\n",
    "# w = np.where(t)[0]\n",
    "xyz_sub = xyz[t]\n",
    "\n",
    "duration = timer() - start\n",
    "print('indexing duration [ms]:  {:.1f}'.format(duration*1000))"
   ]
  },
  {
   "cell_type": "code",
   "execution_count": 189,
   "metadata": {},
   "outputs": [],
   "source": [
    "def xxx(box):\n",
    "    h = box[3]\n",
    "    w = box[4]\n",
    "    l = box[5]\n",
    "    x = box[0]\n",
    "    y = box[1]\n",
    "    z = box[2]\n",
    "    ry = box[6]\n",
    "    d = np.sqrt(l**2+w**2)\n",
    "\n",
    "    cos_ry = np.cos(ry)\n",
    "    sin_ry = np.sin(ry)\n",
    "    T = [[ cos_ry, 0, sin_ry, x],\n",
    "        [0,       1, 0,      y],\n",
    "        [-sin_ry, 0, cos_ry, z]]\n",
    "    T = np.array(T)\n",
    "    C = T[:3, :3]\n",
    "    r = T[:3,  3]\n",
    "    T_inv = np.zeros((3,4))\n",
    "    T_inv[:3,:3] = C.T\n",
    "    T_inv[:3, 3] = np.dot(-C.T, r)"
   ]
  },
  {
   "cell_type": "code",
   "execution_count": 187,
   "metadata": {},
   "outputs": [],
   "source": [
    "box = np.random.rand(100,7)"
   ]
  },
  {
   "cell_type": "code",
   "execution_count": 192,
   "metadata": {},
   "outputs": [
    {
     "name": "stdout",
     "output_type": "stream",
     "text": [
      "indexing duration [ms]:  0.2\n"
     ]
    }
   ],
   "source": [
    "start = timer()\n",
    "\n",
    "xxx(box[0])\n",
    "\n",
    "duration = timer() - start\n",
    "print('indexing duration [ms]:  {:.1f}'.format(duration*1000))"
   ]
  },
  {
   "cell_type": "code",
   "execution_count": 206,
   "metadata": {},
   "outputs": [
    {
     "data": {
      "text/plain": [
       "[1, 2, 2, 1, 2, 2]"
      ]
     },
     "execution_count": 206,
     "metadata": {},
     "output_type": "execute_result"
    }
   ],
   "source": [
    "l = []\n",
    "l += [1,2,2]\n",
    "l += [1,2,2]\n",
    "l"
   ]
  },
  {
   "cell_type": "code",
   "execution_count": 218,
   "metadata": {},
   "outputs": [
    {
     "data": {
      "text/plain": [
       "(1, 3)"
      ]
     },
     "execution_count": 218,
     "metadata": {},
     "output_type": "execute_result"
    }
   ],
   "source": [
    "a = np.array([[1,1,1],[2,2,2],[3,3,3]])\n",
    "a[0].reshape(-1,3).shape"
   ]
  },
  {
   "cell_type": "code",
   "execution_count": 221,
   "metadata": {},
   "outputs": [],
   "source": [
    "a = np.array([]).reshape(-1,7)"
   ]
  },
  {
   "cell_type": "code",
   "execution_count": 224,
   "metadata": {},
   "outputs": [
    {
     "data": {
      "text/plain": [
       "(0, 7)"
      ]
     },
     "execution_count": 224,
     "metadata": {},
     "output_type": "execute_result"
    }
   ],
   "source": [
    "a.shape"
   ]
  },
  {
   "cell_type": "code",
   "execution_count": 230,
   "metadata": {},
   "outputs": [],
   "source": [
    "def nms(pred, score, threshold):\n",
    "    '''\n",
    "    Task 5\n",
    "    Implement NMS to reduce the number of predictions per frame with a threshold\n",
    "    of 0.1. The IoU should be calculated only on the BEV.\n",
    "    input\n",
    "        pred (N,7) 3D bounding box with (x,y,z,h,w,l,ry)\n",
    "        score (N,) confidence scores\n",
    "        threshold (float) upper bound threshold for NMS\n",
    "    output\n",
    "        s_f (M,7) 3D bounding boxes after NMS\n",
    "        c_f (M,1) corresopnding confidence scores\n",
    "    '''\n",
    "    if len(pred) == 0:\n",
    "        # print(\"task5 pred shape\", pred.shape)\n",
    "        s_f = np.array([]).reshape(-1,7)\n",
    "        c_f = np.array([]).reshape(-1,1)\n",
    "        return s_f, c_f\n",
    "    return 0"
   ]
  },
  {
   "cell_type": "code",
   "execution_count": 231,
   "metadata": {},
   "outputs": [
    {
     "data": {
      "text/plain": [
       "(array([], shape=(0, 7), dtype=float64),\n",
       " array([], shape=(0, 1), dtype=float64))"
      ]
     },
     "execution_count": 231,
     "metadata": {},
     "output_type": "execute_result"
    }
   ],
   "source": [
    "pred = []\n",
    "nms(pred,0,0)"
   ]
  },
  {
   "cell_type": "code",
   "execution_count": 237,
   "metadata": {},
   "outputs": [
    {
     "data": {
      "text/plain": [
       "array([False])"
      ]
     },
     "execution_count": 237,
     "metadata": {},
     "output_type": "execute_result"
    }
   ],
   "source": [
    "np.arange(1) != 0"
   ]
  },
  {
   "cell_type": "code",
   "execution_count": 244,
   "metadata": {},
   "outputs": [],
   "source": [
    "def label2corners(label):\n",
    "    '''\n",
    "    Task 1\n",
    "    input\n",
    "        label (N,7) 3D bounding box with (x,y,z,h,w,l,ry)\n",
    "    output\n",
    "        corners (N,8,3) corner coordinates in the rectified reference frame\n",
    "    '''\n",
    "    corners = []\n",
    "    for bbox in label:\n",
    "        h = bbox[3]\n",
    "        w = bbox[4]\n",
    "        l = bbox[5]\n",
    "        x = bbox[0]\n",
    "        y = bbox[1]\n",
    "        z = bbox[2]\n",
    "        ry = bbox[6]\n",
    "\n",
    "        '''\n",
    "              1 -------- 0\n",
    "             /|         /|\n",
    "            2 -------- 3 .\n",
    "            | |        | |\n",
    "            . 5 -------- 4\n",
    "            |/         |/\n",
    "            6 -------- 7\n",
    "        ''' \n",
    "        corner_3d = [[l/2, -h,  w/2],\n",
    "                    [-l/2, -h,  w/2],\n",
    "                    [-l/2, -h, -w/2],\n",
    "                    [ l/2, -h, -w/2],\n",
    "                    [ l/2,  0,  w/2],\n",
    "                    [-l/2,  0,  w/2],\n",
    "                    [-l/2,  0, -w/2],\n",
    "                    [ l/2,  0, -w/2]]\n",
    "\n",
    "        corner_3d = np.array(corner_3d)\n",
    "        corner_3d = np.hstack([corner_3d, np.ones((8,1))])\n",
    "        corner_3d = corner_3d.T\n",
    "\n",
    "        cos_ry = np.cos(ry)\n",
    "        sin_ry = np.sin(ry)\n",
    "        T = [[ cos_ry, 0, sin_ry, x],\n",
    "            [0,       1, 0,      y],\n",
    "            [-sin_ry, 0, cos_ry, z],\n",
    "            [0,       0, 0,      1]]\n",
    "        T = np.array(T)\n",
    "\n",
    "        corner_3d = np.dot(T, corner_3d)\n",
    "        corner_3d = corner_3d.T\n",
    "        corner_3d = corner_3d[:, :3]\n",
    "        corners.append(corner_3d)\n",
    "\n",
    "    corners = np.array(corners).reshape(-1, 8, 3)\n",
    "    assert corners.shape == (len(label), 8, 3)\n",
    "\n",
    "    return corners\n",
    "\n",
    "\n",
    "def box3d_vol(corners):\n",
    "    ''' corners: (8,3) no assumption on axis direction '''\n",
    "    a = np.sqrt(np.sum((corners[0,:] - corners[1,:])**2))\n",
    "    b = np.sqrt(np.sum((corners[1,:] - corners[2,:])**2))\n",
    "    c = np.sqrt(np.sum((corners[0,:] - corners[4,:])**2))\n",
    "    return a*b*c\n",
    "\n",
    "def get_iou(pred, target):\n",
    "    '''\n",
    "    Task 1\n",
    "    input\n",
    "        pred (N,7) 3D bounding box corners\n",
    "        target (M,7) 3D bounding box corners\n",
    "    output\n",
    "        iou (N,M) pairwise 3D intersection-over-union\n",
    "    '''\n",
    "\n",
    "    corners_pred = label2corners(pred)\n",
    "    corners_target = label2corners(target)\n",
    "\n",
    "    IOU = []\n",
    "\n",
    "    for corner_pred in corners_pred:\n",
    "        iou_row = []\n",
    "        for corner_target in corners_target:\n",
    "            rect1 = [(corner_pred[i,0], corner_pred[i,2]) for i in range(3,-1,-1)]\n",
    "            rect2 = [(corner_target[i,0], corner_target[i,2]) for i in range(3,-1,-1)] \n",
    "\n",
    "            inter_area = 1\n",
    "\n",
    "            ymin = max(corner_pred[0,1], corner_target[0,1])\n",
    "            ymax = min(corner_pred[4,1], corner_target[4,1])\n",
    "\n",
    "            inter_vol = inter_area * max(0.0, ymax-ymin)\n",
    "            \n",
    "            vol1 = box3d_vol(corner_pred)\n",
    "            vol2 = box3d_vol(corner_target)\n",
    "            iou = inter_vol / (vol1 + vol2 - inter_vol)\n",
    "\n",
    "            iou_row.append(iou)\n",
    "\n",
    "        IOU.append(iou_row)\n",
    "\n",
    "    IOU = np.array(IOU).reshape(len(pred),len(target))\n",
    "    return IOU"
   ]
  },
  {
   "cell_type": "code",
   "execution_count": 246,
   "metadata": {},
   "outputs": [],
   "source": [
    "a = get_iou(np.array([]).reshape(-1,7),np.empty((1,7)))"
   ]
  },
  {
   "cell_type": "code",
   "execution_count": 250,
   "metadata": {},
   "outputs": [
    {
     "data": {
      "text/plain": [
       "array([], shape=(0, 1), dtype=float64)"
      ]
     },
     "execution_count": 250,
     "metadata": {},
     "output_type": "execute_result"
    }
   ],
   "source": [
    "a[:,:]"
   ]
  },
  {
   "cell_type": "code",
   "execution_count": null,
   "metadata": {},
   "outputs": [],
   "source": []
  }
 ],
 "metadata": {
  "kernelspec": {
   "display_name": "Python 3.10.0 ('aml')",
   "language": "python",
   "name": "python3"
  },
  "language_info": {
   "codemirror_mode": {
    "name": "ipython",
    "version": 3
   },
   "file_extension": ".py",
   "mimetype": "text/x-python",
   "name": "python",
   "nbconvert_exporter": "python",
   "pygments_lexer": "ipython3",
   "version": "3.10.0"
  },
  "orig_nbformat": 4,
  "vscode": {
   "interpreter": {
    "hash": "96d291d31aa202927865b0302454ffdc4999bc622801a3a9104172cdbcfa66b5"
   }
  }
 },
 "nbformat": 4,
 "nbformat_minor": 2
}
